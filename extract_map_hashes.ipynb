{
 "cells": [
  {
   "cell_type": "code",
   "execution_count": 30,
   "metadata": {},
   "outputs": [],
   "source": [
    "from bs4 import BeautifulSoup"
   ]
  },
  {
   "cell_type": "code",
   "execution_count": 31,
   "metadata": {},
   "outputs": [],
   "source": [
    "with open(\"index.html\", \"r\", encoding=\"utf-8\") as f:\n",
    "    html = f.read()\n",
    "soup = BeautifulSoup(html, \"html.parser\")"
   ]
  },
  {
   "cell_type": "code",
   "execution_count": 32,
   "metadata": {},
   "outputs": [
    {
     "data": {
      "text/plain": [
       "{'57357d9f77abe957e8cfd15f': 'Dumb test',\n",
       " '62a44b22040f04bd36e8a914': 'A Community World',\n",
       " '5d0ce72c8b19a91fe05aa7a8': 'Flags of the World',\n",
       " '56f28536148a781b143b0c3b': 'European stadiums',\n",
       " '5cfda2c9bc79e16dd866104d': 'I Saw The Sign 2.0',\n",
       " '5b0d907bfaa4cf3ce43bc6b1': '500 000 lieux en France métropolitaine !',\n",
       " '56e45886dc7cd6a164e861ac': 'US Cities',\n",
       " '5d374dc141d2a43c1cd4527b': 'GeoDetective',\n",
       " '60de2a8a81b92c00015f29e1': 'The 198 Capitals Of The World',\n",
       " '5d73f83d82777cb5781464f2': 'A Balanced World',\n",
       " '5dbaf08ed0d2a478444d2e8e': 'AI Generated World',\n",
       " '6029991c5048850001d572a9': 'A Pinpointable World',\n",
       " '5cd30a0d17e6fc441ceda867': 'An Extraordinary World',\n",
       " '6078c830e945e900015f4a64': 'A Learning World',\n",
       " '6089bfcff6a0770001f645dd': 'An Arbitrary World',\n",
       " '5754651a00a27f6f482a2a3d': \"Where's that Mcdonald's?\",\n",
       " '5bbb74ce2c01735208560cf6': 'World Cities',\n",
       " '5b0a80f8596695b708122809': 'An Improved World',\n",
       " '59e940ed39d855c868104b32': 'GeoBettr World - Replayable',\n",
       " '5ed59e1f375e6a6a68a2d227': 'All the Wetherspoons',\n",
       " '5eb5ea048734a02c543f2ae1': 'La Diversité Française ',\n",
       " '65c86935d327035509fd616f': 'A Rainbolt World',\n",
       " '61a1846aee665b00016680ce': 'Fun with Flags!',\n",
       " '5fa381d0e27b4900014e0732': 'Interesting Photospheres in Obscure Countries'}"
      ]
     },
     "execution_count": 32,
     "metadata": {},
     "output_type": "execute_result"
    }
   ],
   "source": [
    "maps_mapping = {}\n",
    "trs = soup.find_all(\"tr\", attrs={\"data-qa\": True})\n",
    "for tr in trs:\n",
    "    td = tr.find_all(\"td\")[1]\n",
    "    map_name = td.find(\"div\").text\n",
    "    hash = tr.attrs[\"data-qa\"].split(\"-\")[-1]\n",
    "    maps_mapping[hash] = map_name\n",
    "maps_mapping"
   ]
  },
  {
   "cell_type": "code",
   "execution_count": 33,
   "metadata": {},
   "outputs": [
    {
     "data": {
      "text/plain": [
       "{'57357d9f77abe957e8cfd15f': 'Dumb test',\n",
       " '62a44b22040f04bd36e8a914': 'A Community World',\n",
       " '5d0ce72c8b19a91fe05aa7a8': 'Flags of the World',\n",
       " '56f28536148a781b143b0c3b': 'European stadiums',\n",
       " '5cfda2c9bc79e16dd866104d': 'I Saw The Sign 2.0',\n",
       " '5b0d907bfaa4cf3ce43bc6b1': '500 000 lieux en France métropolitaine !',\n",
       " '56e45886dc7cd6a164e861ac': 'US Cities',\n",
       " '5d374dc141d2a43c1cd4527b': 'GeoDetective',\n",
       " '60de2a8a81b92c00015f29e1': 'The 198 Capitals Of The World',\n",
       " '5d73f83d82777cb5781464f2': 'A Balanced World',\n",
       " '5dbaf08ed0d2a478444d2e8e': 'AI Generated World',\n",
       " '6029991c5048850001d572a9': 'A Pinpointable World',\n",
       " '5cd30a0d17e6fc441ceda867': 'An Extraordinary World',\n",
       " '6078c830e945e900015f4a64': 'A Learning World',\n",
       " '6089bfcff6a0770001f645dd': 'An Arbitrary World',\n",
       " '5754651a00a27f6f482a2a3d': \"Where's that Mcdonald's?\",\n",
       " '5bbb74ce2c01735208560cf6': 'World Cities',\n",
       " '5b0a80f8596695b708122809': 'An Improved World',\n",
       " '59e940ed39d855c868104b32': 'GeoBettr World - Replayable',\n",
       " '5ed59e1f375e6a6a68a2d227': 'All the Wetherspoons',\n",
       " '5eb5ea048734a02c543f2ae1': 'La Diversité Française ',\n",
       " '65c86935d327035509fd616f': 'A Rainbolt World',\n",
       " '61a1846aee665b00016680ce': 'Fun with Flags!',\n",
       " '5fa381d0e27b4900014e0732': 'Interesting Photospheres in Obscure Countries',\n",
       " '57357d9f77abe957e8cfd10f': 'Dumb test',\n",
       " '60de2a8a81b92c00010f29e1': 'The 198 Capitals Of The World'}"
      ]
     },
     "execution_count": 33,
     "metadata": {},
     "output_type": "execute_result"
    }
   ],
   "source": [
    "old = {\n",
    "    \"57357d9f77abe957e8cfd10f\": \"Dumb test\",\n",
    "    \"57357d9f77abe957e8cfd15f\": \"Dumb test\",\n",
    "    \"62a44b22040f04bd36e8a914\": \"A Community World\",\n",
    "    \"5d0ce72c8b19a91fe05aa7a8\": \"Flags of the World\",\n",
    "    \"56f28536148a781b143b0c3b\": \"European stadiums\",\n",
    "    \"5cfda2c9bc79e16dd866104d\": \"I Saw The Sign 2.0\",\n",
    "    \"5b0d907bfaa4cf3ce43bc6b1\": \"500 000 lieux en France métropolitaine !\",\n",
    "    \"56e45886dc7cd6a164e861ac\": \"US Cities\",\n",
    "    \"5d374dc141d2a43c1cd4527b\": \"GeoDetective\",\n",
    "    \"60de2a8a81b92c00010f29e1\": \"The 198 Capitals Of The World\",\n",
    "    \"60de2a8a81b92c00015f29e1\": \"The 198 Capitals Of The World\",\n",
    "    \"5d73f83d82777cb5781464f2\": \"A Balanced World\",\n",
    "    \"5dbaf08ed0d2a478444d2e8e\": \"AI Generated World\",\n",
    "    \"5cd30a0d17e6fc441ceda867\": \"An Extraordinary World\",\n",
    "    \"6029991c5048850001d572a9\": \"A Pinpointable World\"\n",
    "}\n",
    "maps_mapping.update(old)\n",
    "maps_mapping"
   ]
  }
 ],
 "metadata": {
  "kernelspec": {
   "display_name": "Python 3",
   "language": "python",
   "name": "python3"
  },
  "language_info": {
   "codemirror_mode": {
    "name": "ipython",
    "version": 3
   },
   "file_extension": ".py",
   "mimetype": "text/x-python",
   "name": "python",
   "nbconvert_exporter": "python",
   "pygments_lexer": "ipython3",
   "version": "3.13.0"
  }
 },
 "nbformat": 4,
 "nbformat_minor": 2
}
